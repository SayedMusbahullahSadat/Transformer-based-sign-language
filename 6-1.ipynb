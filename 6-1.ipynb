{
 "cells": [
  {
   "cell_type": "code",
   "execution_count": 2,
   "id": "06bd4367-49f8-4a20-9aff-f979163d12d9",
   "metadata": {},
   "source": [
    "!pip install pandas torch scikit-learn"
   ],
   "outputs": []
  },
  {
   "cell_type": "code",
   "execution_count": 5,
   "id": "539980c0-8f65-4185-b96b-fdcbb31840b3",
   "metadata": {},
   "source": [
    "import pandas as pd\n",
    "import torch\n",
    "import torch.nn as nn\n",
    "import torch.nn.functional as F\n",
    "from sklearn.preprocessing import MinMaxScaler, LabelEncoder\n",
    "from sklearn.model_selection import train_test_split\n",
    "from sklearn.metrics import accuracy_score\n",
    "from torch.utils.data import DataLoader, TensorDataset\n",
    "\n",
    "# Step 1: Load and Preprocess the Dataset\n",
    "# Load the dataset\n",
    "data = pd.read_csv(r\"C:\\Users\\SADAT\\Desktop\\university\\CoE_4\\Final Project\\our coding files\\PRACTICE DATA\\cleaned_landmarks_dataset.csv\")\n",
    "\n",
    "# Separate features and labels\n",
    "X = data.drop(columns=[\"label\"])  # Features\n",
    "y = data[\"label\"]  # Labels\n",
    "\n",
    "# Normalize the feature values\n",
    "scaler = MinMaxScaler()\n",
    "X_scaled = scaler.fit_transform(X)\n",
    "\n",
    "# Encode labels\n",
    "label_encoder = LabelEncoder()\n",
    "y_encoded = label_encoder.fit_transform(y)\n",
    "\n",
    "# Split the dataset into train and test sets\n",
    "X_train, X_test, y_train, y_test = train_test_split(X_scaled, y_encoded, test_size=0.2, random_state=42)\n",
    "\n",
    "# Convert data to PyTorch tensors\n",
    "X_train_tensor = torch.tensor(X_train, dtype=torch.float32)\n",
    "y_train_tensor = torch.tensor(y_train, dtype=torch.long)\n",
    "X_test_tensor = torch.tensor(X_test, dtype=torch.float32)\n",
    "y_test_tensor = torch.tensor(y_test, dtype=torch.long)"
   ],
   "outputs": []
  },
  {
   "cell_type": "code",
   "execution_count": 6,
   "id": "1a9fe2e3-11cd-45f6-b154-746fdfaedefc",
   "metadata": {},
   "source": [
    "# Step 2: Define the Neural Network Model\n",
    "class SignLanguageNN(nn.Module):\n",
    "    def __init__(self, input_size, num_classes):\n",
    "        super(SignLanguageNN, self).__init__()\n",
    "        self.fc1 = nn.Linear(input_size, 128)  # Input layer to hidden layer\n",
    "        self.fc2 = nn.Linear(128, 64)         # Hidden layer to hidden layer\n",
    "        self.fc3 = nn.Linear(64, num_classes)  # Hidden layer to output layer\n",
    "\n",
    "    def forward(self, x):\n",
    "        x = F.relu(self.fc1(x))\n",
    "        x = F.relu(self.fc2(x))\n",
    "        x = self.fc3(x)\n",
    "        return x"
   ],
   "outputs": []
  },
  {
   "cell_type": "code",
   "execution_count": 9,
   "id": "401a3c91-80c6-450b-9d95-500b532696b6",
   "metadata": {},
   "source": [
    "# Step 3: Initialize Model, Loss Function, and Optimizer\n",
    "# Define model parameters\n",
    "input_size = X_train_tensor.shape[1]  # Number of features\n",
    "num_classes = len(label_encoder.classes_)  # Number of unique labels\n",
    "\n",
    "# Initialize the model, loss function, and optimizer\n",
    "model = SignLanguageNN(input_size, num_classes)\n",
    "criterion = nn.CrossEntropyLoss()  # Loss function for classification\n",
    "optimizer = torch.optim.Adam(model.parameters(), lr=0.0015)  # Optimizer"
   ],
   "outputs": []
  },
  {
   "cell_type": "code",
   "execution_count": 10,
   "id": "39d9b776-619f-44ca-b112-10839a9c1af5",
   "metadata": {},
   "source": [
    "# Step 4: Train the Model\n",
    "# Create DataLoader for batching\n",
    "train_dataset = TensorDataset(X_train_tensor, y_train_tensor)\n",
    "train_loader = DataLoader(train_dataset, batch_size=32, shuffle=True)\n",
    "\n",
    "# Training loop\n",
    "num_epochs = 100\n",
    "for epoch in range(num_epochs):\n",
    "    model.train()\n",
    "    running_loss = 0.0\n",
    "    for inputs, labels in train_loader:\n",
    "        # Forward pass\n",
    "        outputs = model(inputs)\n",
    "        loss = criterion(outputs, labels)\n",
    "\n",
    "        # Backward pass and optimization\n",
    "        optimizer.zero_grad()\n",
    "        loss.backward()\n",
    "        optimizer.step()\n",
    "\n",
    "        running_loss += loss.item()\n",
    "\n",
    "    print(f\"Epoch [{epoch+1}/{num_epochs}], Loss: {running_loss/len(train_loader):.4f}\")"
   ],
   "outputs": []
  },
  {
   "cell_type": "code",
   "execution_count": 11,
   "id": "90ff84c6-6e2d-47b1-8712-07856f81a688",
   "metadata": {},
   "source": [
    "# Step 5: Evaluate the Model\n",
    "# Set the model to evaluation mode\n",
    "model.eval()\n",
    "\n",
    "# Make predictions\n",
    "with torch.no_grad():\n",
    "    test_outputs = model(X_test_tensor)\n",
    "    _, predicted = torch.max(test_outputs, 1)\n",
    "\n",
    "# Calculate accuracy\n",
    "accuracy = accuracy_score(y_test_tensor.numpy(), predicted.numpy())\n",
    "print(f\"Test Accuracy: {accuracy * 100:.2f}%\")"
   ],
   "outputs": []
  },
  {
   "cell_type": "code",
   "execution_count": 12,
   "id": "d6c6d62e-2e35-4f2b-9762-b7deb5c330c8",
   "metadata": {},
   "source": [
    "# Step 6: Save and Load the Model\n",
    "# Save the model\n",
    "torch.save(model.state_dict(), \"sign_language_nn.pth\")\n",
    "\n",
    "# Load the model\n",
    "loaded_model = SignLanguageNN(input_size, num_classes)\n",
    "loaded_model.load_state_dict(torch.load(\"sign_language_nn.pth\"))\n",
    "loaded_model.eval()"
   ],
   "outputs": []
  },
  {
   "cell_type": "code",
   "execution_count": 13,
   "id": "685ccf69-d79e-4604-80f0-4a54d8abf5c0",
   "metadata": {},
   "source": [
    "# Step 7: Predict on New Data\n",
    "# Example: Predict on a single test sample\n",
    "new_sample = X_test_tensor[0].unsqueeze(0)  # Add batch dimension\n",
    "with torch.no_grad():\n",
    "    prediction = loaded_model(new_sample)\n",
    "    _, predicted_label = torch.max(prediction, 1)\n",
    "\n",
    "# Decode and print the correct and predicted labels\n",
    "correct_label = label_encoder.inverse_transform([y_test_tensor[0].item()])\n",
    "predicted_label = label_encoder.inverse_transform(predicted_label.numpy())\n",
    "\n",
    "print(f\"Correct Sign: {correct_label[0]}\")\n",
    "print(f\"Predicted Sign: {predicted_label[0]}\")"
   ],
   "outputs": []
  },
  {
   "cell_type": "code",
   "execution_count": 15,
   "id": "6e4fca38-0269-4648-a684-356be761b6ff",
   "metadata": {},
   "source": [
    "# Step 7_2: Predict on Multiple Samples\n",
    "# Select the first 10 samples from the test set\n",
    "num_samples = 10\n",
    "samples = X_test_tensor[:num_samples]\n",
    "correct_labels = y_test_tensor[:num_samples]\n",
    "\n",
    "# Predict for multiple samples\n",
    "with torch.no_grad():\n",
    "    predictions = loaded_model(samples)\n",
    "    _, predicted_labels = torch.max(predictions, 1)\n",
    "\n",
    "# Decode the labels\n",
    "decoded_correct_labels = label_encoder.inverse_transform(correct_labels.numpy())\n",
    "decoded_predicted_labels = label_encoder.inverse_transform(predicted_labels.numpy())\n",
    "\n",
    "# Print results for each sample\n",
    "print(\"Correct vs Predicted Labels for 10 Samples:\")\n",
    "for i in range(num_samples):\n",
    "    print(f\"Sample {i+1}: Correct - {decoded_correct_labels[i]}, Predicted - {decoded_predicted_labels[i]}\")\n"
   ],
   "outputs": []
  },
  {
   "cell_type": "code",
   "execution_count": null,
   "id": "0a460a97-7bdf-40c1-acf6-86d62b968a37",
   "metadata": {},
   "source": [],
   "outputs": []
  }
 ],
 "metadata": {
  "kernelspec": {
   "display_name": "Python 3 (ipykernel)",
   "language": "python",
   "name": "python3"
  },
  "language_info": {
   "codemirror_mode": {
    "name": "ipython",
    "version": 3
   },
   "file_extension": ".py",
   "mimetype": "text/x-python",
   "name": "python",
   "nbconvert_exporter": "python",
   "pygments_lexer": "ipython3",
   "version": "3.12.7"
  }
 },
 "nbformat": 4,
 "nbformat_minor": 5
}
